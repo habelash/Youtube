{
 "cells": [
  {
   "cell_type": "markdown",
   "id": "714e6d27",
   "metadata": {},
   "source": [
    "# Python Basics"
   ]
  },
  {
   "cell_type": "markdown",
   "id": "9df9cf69",
   "metadata": {},
   "source": [
    "#### 1. Print Statement"
   ]
  },
  {
   "cell_type": "code",
   "execution_count": 4,
   "id": "2d049db6",
   "metadata": {},
   "outputs": [
    {
     "name": "stdout",
     "output_type": "stream",
     "text": [
      "Habelash\n"
     ]
    }
   ],
   "source": [
    "print(\"Habelash\")"
   ]
  },
  {
   "cell_type": "markdown",
   "id": "f812c39c",
   "metadata": {},
   "source": [
    "#### 2. Indentation "
   ]
  },
  {
   "cell_type": "code",
   "execution_count": null,
   "id": "67dea86f",
   "metadata": {},
   "outputs": [],
   "source": [
    "    "
   ]
  }
 ],
 "metadata": {
  "kernelspec": {
   "display_name": "Python 3 (ipykernel)",
   "language": "python",
   "name": "python3"
  },
  "language_info": {
   "codemirror_mode": {
    "name": "ipython",
    "version": 3
   },
   "file_extension": ".py",
   "mimetype": "text/x-python",
   "name": "python",
   "nbconvert_exporter": "python",
   "pygments_lexer": "ipython3",
   "version": "3.8.10"
  }
 },
 "nbformat": 4,
 "nbformat_minor": 5
}
